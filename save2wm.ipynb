{
 "cells": [
  {
   "cell_type": "code",
   "execution_count": 1,
   "metadata": {},
   "outputs": [],
   "source": [
    "save2wm <- function(urls) {\n",
    "  \n",
    "  s <- NULL\n",
    "  w <- 'https://web.archive.org/save/'\n",
    "  l <- length(urls)\n",
    "  i <- 1\n",
    "  \n",
    "  for(u in urls){\n",
    "    \n",
    "    cat(paste0('Przetwarzam adres ',i,'/',l,' (',round(i/l * 100),'%)\\n'))\n",
    "    cat(paste0(u,'\\n'))\n",
    "    \n",
    "    tryCatch(\n",
    "      expr = {\n",
    "        r <- httr::GET(paste0(w,u))    \n",
    "          if(r$status_code == 200) {\n",
    "            s <- rbind(as.data.frame(list(original_url = u, saved_url = paste0('https://web.archive.org',r$headers$`content-location`)),stringsAsFactors = FALSE),s)\n",
    "          } else {\n",
    "            s <- rbind(as.data.frame(list(original_url = u, saved_url = as.character(r$status_code)),stringsAsFactors = FALSE),s)\n",
    "          }\n",
    "        \n",
    "        cat(paste0('Status odpowiedzi: ', r$status_code,'\\n'))\n",
    "        \n",
    "      },\n",
    "      error = function(e){\n",
    "        message('Wystąpił błąd!')\n",
    "        print(e)\n",
    "        cat('-----------------------------------------\\n')    \n",
    "        \n",
    "      },\n",
    "      warning = function(w){\n",
    "        message('Ostrzeżenie!')\n",
    "        print(w)\n",
    "        cat('-----------------------------------------\\n')    \n",
    "        \n",
    "      },\n",
    "      finally = {\n",
    "        message('Odpowiedź serwera zapisana')\n",
    "      }\n",
    "    )    \n",
    "  \n",
    "    cat('Czekam 12 sekund ')\n",
    "\n",
    "    for(e in 0:11) {\n",
    "      cat('#')\n",
    "      Sys.sleep(1)\n",
    "    }\n",
    "\n",
    "    cat('\\n-----------------------------------------\\n')    \n",
    "      \n",
    "    i <- i + 1\n",
    "    \n",
    "    \n",
    "  }\n",
    "  \n",
    "  return(s)\n",
    "}"
   ]
  },
  {
   "cell_type": "code",
   "execution_count": 2,
   "metadata": {},
   "outputs": [
    {
     "name": "stdout",
     "output_type": "stream",
     "text": [
      "Przetwarzam adres 1/2 (50%)\n",
      "http://onet.pl/\n",
      "Status odpowiedzi: 200\n"
     ]
    },
    {
     "name": "stderr",
     "output_type": "stream",
     "text": [
      "Odpowiedź serwera zapisana\n"
     ]
    },
    {
     "name": "stdout",
     "output_type": "stream",
     "text": [
      "Czekam 12 sekund ############\n",
      "-----------------------------------------\n",
      "Przetwarzam adres 2/2 (100%)\n",
      "http://wp.pl/\n",
      "Status odpowiedzi: 200\n"
     ]
    },
    {
     "name": "stderr",
     "output_type": "stream",
     "text": [
      "Odpowiedź serwera zapisana\n"
     ]
    },
    {
     "name": "stdout",
     "output_type": "stream",
     "text": [
      "Czekam 12 sekund ############\n",
      "-----------------------------------------\n"
     ]
    }
   ],
   "source": [
    "t11 <- save2wm(c('http://onet.pl/','http://wp.pl/'))"
   ]
  },
  {
   "cell_type": "code",
   "execution_count": 4,
   "metadata": {},
   "outputs": [
    {
     "data": {
      "text/html": [
       "<table>\n",
       "<caption>A data.frame: 2 × 2</caption>\n",
       "<thead>\n",
       "\t<tr><th scope=col>original_url</th><th scope=col>saved_url</th></tr>\n",
       "\t<tr><th scope=col>&lt;chr&gt;</th><th scope=col>&lt;chr&gt;</th></tr>\n",
       "</thead>\n",
       "<tbody>\n",
       "\t<tr><td>http://wp.pl/  </td><td>https://web.archive.org/web/20191018063922/https://www.wp.pl/  </td></tr>\n",
       "\t<tr><td>http://onet.pl/</td><td>https://web.archive.org/web/20191018063904/https://www.onet.pl/</td></tr>\n",
       "</tbody>\n",
       "</table>\n"
      ],
      "text/latex": [
       "A data.frame: 2 × 2\n",
       "\\begin{tabular}{r|ll}\n",
       " original\\_url & saved\\_url\\\\\n",
       " <chr> & <chr>\\\\\n",
       "\\hline\n",
       "\t http://wp.pl/   & https://web.archive.org/web/20191018063922/https://www.wp.pl/  \\\\\n",
       "\t http://onet.pl/ & https://web.archive.org/web/20191018063904/https://www.onet.pl/\\\\\n",
       "\\end{tabular}\n"
      ],
      "text/markdown": [
       "\n",
       "A data.frame: 2 × 2\n",
       "\n",
       "| original_url &lt;chr&gt; | saved_url &lt;chr&gt; |\n",
       "|---|---|\n",
       "| http://wp.pl/   | https://web.archive.org/web/20191018063922/https://www.wp.pl/   |\n",
       "| http://onet.pl/ | https://web.archive.org/web/20191018063904/https://www.onet.pl/ |\n",
       "\n"
      ],
      "text/plain": [
       "  original_url   \n",
       "1 http://wp.pl/  \n",
       "2 http://onet.pl/\n",
       "  saved_url                                                      \n",
       "1 https://web.archive.org/web/20191018063922/https://www.wp.pl/  \n",
       "2 https://web.archive.org/web/20191018063904/https://www.onet.pl/"
      ]
     },
     "metadata": {},
     "output_type": "display_data"
    }
   ],
   "source": [
    "t11"
   ]
  },
  {
   "cell_type": "code",
   "execution_count": null,
   "metadata": {},
   "outputs": [],
   "source": []
  }
 ],
 "metadata": {
  "kernelspec": {
   "display_name": "R",
   "language": "R",
   "name": "ir"
  },
  "language_info": {
   "codemirror_mode": "r",
   "file_extension": ".r",
   "mimetype": "text/x-r-source",
   "name": "R",
   "pygments_lexer": "r",
   "version": "3.6.1"
  },
  "widgets": {
   "application/vnd.jupyter.widget-state+json": {
    "state": {},
    "version_major": 2,
    "version_minor": 0
   }
  }
 },
 "nbformat": 4,
 "nbformat_minor": 2
}
